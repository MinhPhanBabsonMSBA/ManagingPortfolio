{
 "cells": [
  {
   "cell_type": "markdown",
   "id": "ea703140",
   "metadata": {},
   "source": [
    "# Managing Portfolio Personal Project Calculation"
   ]
  },
  {
   "cell_type": "code",
   "execution_count": 1,
   "id": "65a62f0b",
   "metadata": {},
   "outputs": [],
   "source": [
    "import yfinance as yf\n",
    "import pandas as pd\n",
    "import numpy as np\n",
    "from datetime import datetime\n",
    "import math"
   ]
  },
  {
   "cell_type": "code",
   "execution_count": 6,
   "id": "5b6d6c2f",
   "metadata": {},
   "outputs": [
    {
     "name": "stderr",
     "output_type": "stream",
     "text": [
      "[*********************100%***********************]  9 of 9 completed"
     ]
    },
    {
     "name": "stdout",
     "output_type": "stream",
     "text": [
      "Downloading data from 2025-02-10 to 2025-04-13...\n"
     ]
    },
    {
     "name": "stderr",
     "output_type": "stream",
     "text": [
      "\n",
      "\r",
      "[*********************100%***********************]  1 of 1 completed"
     ]
    },
    {
     "name": "stdout",
     "output_type": "stream",
     "text": [
      "\n",
      "==== Portfolio Performance (CAGR-based) ====\n",
      "\n",
      "Start Value: $39,261.84\n",
      "End Value: $37,049.64\n",
      "Years: 1.0000\n",
      "Annualized Return: -5.6345%\n",
      "Annualized Volatility: 21.1944%\n",
      "Sharpe Ratio: -0.3602\n",
      "Information Ratio: 2.3485\n",
      "Beta: 0.5925\n",
      "Treynor Ratio: -0.1288\n"
     ]
    },
    {
     "name": "stderr",
     "output_type": "stream",
     "text": [
      "\n"
     ]
    }
   ],
   "source": [
    "# 1. Tickers, shares, and benchmark\n",
    "tickers = ['VNQ', 'HYG', 'TIP', 'GOVT', 'LQD', 'IJH', 'SPY', 'VWO', 'EFA']\n",
    "shares = {\n",
    "    'VNQ': 21, 'HYG': 25, 'TIP': 18, 'GOVT': 260, 'LQD': 36,\n",
    "    'IJH': 65, 'SPY': 16, 'VWO': 89, 'EFA': 74\n",
    "}\n",
    "benchmark_ticker = '^GSPC'\n",
    "\n",
    "# 2. Date range\n",
    "start_date = (pd.Timestamp.today() - pd.tseries.offsets.BDay(45)).strftime('%Y-%m-%d')\n",
    "end_date = pd.Timestamp.today().strftime('%Y-%m-%d')\n",
    "\n",
    "print(f\"Downloading data from {start_date} to {end_date}...\")\n",
    "\n",
    "# 3. Download data\n",
    "data = yf.download(tickers, start=start_date, end=end_date)['Close']\n",
    "benchmark_data = yf.download(benchmark_ticker, start=start_date, end=end_date)['Close']\n",
    "\n",
    "# 4. Daily returns\n",
    "daily_returns = data.pct_change().dropna()\n",
    "benchmark_returns = benchmark_data.pct_change().dropna()\n",
    "\n",
    "# 5. Portfolio value calculation\n",
    "portfolio_values = pd.DataFrame({ticker: data[ticker] * shares[ticker] for ticker in tickers})\n",
    "total_value = portfolio_values.sum(axis=1)\n",
    "\n",
    "# 6. Weighting and portfolio return\n",
    "weights = portfolio_values.div(total_value, axis=0)\n",
    "portfolio_daily_return = (daily_returns * weights).sum(axis=1)\n",
    "\n",
    "# 7. Combine with benchmark\n",
    "combined_df = pd.concat([portfolio_daily_return, benchmark_returns], axis=1).dropna()\n",
    "combined_df.columns = ['Portfolio', 'SP500']\n",
    "\n",
    "# 8. Performance metrics \n",
    "start_value = total_value.iloc[0]\n",
    "end_value = total_value.iloc[-1]\n",
    "years = 1\n",
    "\n",
    "# Annuanlized_ return \n",
    "annualized_return = (end_value / start_value) ** (1 / years) - 1\n",
    "\n",
    "# Other metrics\n",
    "avg_daily_return = combined_df['Portfolio'].mean()\n",
    "daily_volatility = combined_df['Portfolio'].std()\n",
    "annualized_volatility = daily_volatility * np.sqrt(252)\n",
    "\n",
    "risk_free_rate = 0.02\n",
    "sharpe_ratio = (annualized_return - risk_free_rate) / annualized_volatility\n",
    "\n",
    "# Information Ratio\n",
    "excess_returns = combined_df['Portfolio'] - combined_df['SP500']\n",
    "mean_excess_return = excess_returns.mean() * 252\n",
    "tracking_error = excess_returns.std() * np.sqrt(252)\n",
    "information_ratio = mean_excess_return / tracking_error if tracking_error != 0 else np.nan\n",
    "\n",
    "# Treynor Ratio\n",
    "cov_matrix = np.cov(combined_df['Portfolio'], combined_df['SP500'])\n",
    "beta = cov_matrix[0, 1] / np.var(combined_df['SP500']) if np.var(combined_df['SP500']) != 0 else np.nan\n",
    "treynor_ratio = (annualized_return - risk_free_rate) / beta if beta and beta != 0 else np.nan\n",
    "\n",
    "# 9. Output\n",
    "print(\"\\n==== Portfolio Performance (CAGR-based) ====\\n\")\n",
    "print(f\"Start Value: ${start_value:,.2f}\")\n",
    "print(f\"End Value: ${end_value:,.2f}\")\n",
    "print(f\"Years: {years:.4f}\")\n",
    "print(f\"Annualized Return: {annualized_return:.4%}\")\n",
    "print(f\"Annualized Volatility: {annualized_volatility:.4%}\")\n",
    "print(f\"Sharpe Ratio: {sharpe_ratio:.4f}\")\n",
    "print(f\"Information Ratio: {information_ratio:.4f}\")\n",
    "print(f\"Beta: {beta:.4f}\")\n",
    "print(f\"Treynor Ratio: {treynor_ratio:.4f}\")"
   ]
  },
  {
   "cell_type": "markdown",
   "id": "77981b89",
   "metadata": {},
   "source": [
    "# Portfolio Performance"
   ]
  },
  {
   "cell_type": "code",
   "execution_count": 7,
   "id": "6ae044cd",
   "metadata": {
    "scrolled": true
   },
   "outputs": [
    {
     "data": {
      "text/html": [
       "<div>\n",
       "<style scoped>\n",
       "    .dataframe tbody tr th:only-of-type {\n",
       "        vertical-align: middle;\n",
       "    }\n",
       "\n",
       "    .dataframe tbody tr th {\n",
       "        vertical-align: top;\n",
       "    }\n",
       "\n",
       "    .dataframe thead th {\n",
       "        text-align: right;\n",
       "    }\n",
       "</style>\n",
       "<table border=\"1\" class=\"dataframe\">\n",
       "  <thead>\n",
       "    <tr style=\"text-align: right;\">\n",
       "      <th></th>\n",
       "      <th>Portfolio Stats</th>\n",
       "    </tr>\n",
       "  </thead>\n",
       "  <tbody>\n",
       "    <tr>\n",
       "      <th>Start Value</th>\n",
       "      <td>$39,261.84</td>\n",
       "    </tr>\n",
       "    <tr>\n",
       "      <th>End Value</th>\n",
       "      <td>$37,049.64</td>\n",
       "    </tr>\n",
       "    <tr>\n",
       "      <th>Average Daily Return</th>\n",
       "      <td>-0.001145</td>\n",
       "    </tr>\n",
       "    <tr>\n",
       "      <th>Average Daily Std Dev (Volatility)</th>\n",
       "      <td>0.013351</td>\n",
       "    </tr>\n",
       "    <tr>\n",
       "      <th>Average Annualized Return</th>\n",
       "      <td>-0.056345</td>\n",
       "    </tr>\n",
       "    <tr>\n",
       "      <th>Average Annualized Std Dev</th>\n",
       "      <td>0.211944</td>\n",
       "    </tr>\n",
       "    <tr>\n",
       "      <th>Sharpe Ratio</th>\n",
       "      <td>-0.360211</td>\n",
       "    </tr>\n",
       "    <tr>\n",
       "      <th>Information Ratio</th>\n",
       "      <td>2.348455</td>\n",
       "    </tr>\n",
       "    <tr>\n",
       "      <th>Treynor Ratio</th>\n",
       "      <td>-0.128848</td>\n",
       "    </tr>\n",
       "    <tr>\n",
       "      <th>Beta (vs SP500)</th>\n",
       "      <td>0.59252</td>\n",
       "    </tr>\n",
       "  </tbody>\n",
       "</table>\n",
       "</div>"
      ],
      "text/plain": [
       "                                   Portfolio Stats\n",
       "Start Value                             $39,261.84\n",
       "End Value                               $37,049.64\n",
       "Average Daily Return                     -0.001145\n",
       "Average Daily Std Dev (Volatility)        0.013351\n",
       "Average Annualized Return                -0.056345\n",
       "Average Annualized Std Dev                0.211944\n",
       "Sharpe Ratio                             -0.360211\n",
       "Information Ratio                         2.348455\n",
       "Treynor Ratio                            -0.128848\n",
       "Beta (vs SP500)                            0.59252"
      ]
     },
     "execution_count": 7,
     "metadata": {},
     "output_type": "execute_result"
    }
   ],
   "source": [
    "\n",
    "# Store all metrics in a dictionary\n",
    "portfolio_stats = {\n",
    "    \"Start Value\": f\"${start_value:,.2f}\",\n",
    "    \"End Value\"  :f\"${end_value:,.2f}\",\n",
    "    \"Average Daily Return\": avg_daily_return,\n",
    "    \"Average Daily Std Dev (Volatility)\": daily_volatility,\n",
    "    \"Average Annualized Return\": annualized_return,\n",
    "    \"Average Annualized Std Dev\": annualized_volatility,\n",
    "    \"Sharpe Ratio\": sharpe_ratio,\n",
    "    \"Information Ratio\": information_ratio,\n",
    "    \"Treynor Ratio\": treynor_ratio,\n",
    "    \"Beta (vs SP500)\": beta\n",
    "}\n",
    "Portfolio = pd.DataFrame(portfolio_stats,index=[\"Portfolio Stats\"])\n",
    "Portfolio = Portfolio.transpose()\n",
    "Portfolio"
   ]
  }
 ],
 "metadata": {
  "colab": {
   "provenance": []
  },
  "kernelspec": {
   "display_name": "Python 3",
   "language": "python",
   "name": "python3"
  },
  "language_info": {
   "codemirror_mode": {
    "name": "ipython",
    "version": 3
   },
   "file_extension": ".py",
   "mimetype": "text/x-python",
   "name": "python",
   "nbconvert_exporter": "python",
   "pygments_lexer": "ipython3",
   "version": "3.8.8"
  }
 },
 "nbformat": 4,
 "nbformat_minor": 5
}
