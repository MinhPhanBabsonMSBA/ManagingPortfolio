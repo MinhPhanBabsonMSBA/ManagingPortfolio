{
 "cells": [
  {
   "cell_type": "markdown",
   "id": "ea703140",
   "metadata": {},
   "source": [
    "# Managing Portfolio Personal Project Calculation"
   ]
  },
  {
   "cell_type": "code",
   "execution_count": 26,
   "id": "65a62f0b",
   "metadata": {},
   "outputs": [],
   "source": [
    "import yfinance as yf\n",
    "import pandas as pd\n",
    "import numpy as np\n",
    "from datetime import datetime\n",
    "import math"
   ]
  },
  {
   "cell_type": "code",
   "execution_count": 44,
   "id": "5b6d6c2f",
   "metadata": {},
   "outputs": [
    {
     "name": "stderr",
     "output_type": "stream",
     "text": [
      "[*********************100%***********************]  9 of 9 completed"
     ]
    },
    {
     "name": "stdout",
     "output_type": "stream",
     "text": [
      "Downloading data from 2025-01-31 to 2025-04-04...\n"
     ]
    },
    {
     "name": "stderr",
     "output_type": "stream",
     "text": [
      "\n",
      "\r",
      "[*********************100%***********************]  1 of 1 completed"
     ]
    },
    {
     "name": "stdout",
     "output_type": "stream",
     "text": [
      "\n",
      "Historical Prices (last 5 rows):\n",
      "Ticker            EFA       GOVT        HYG        IJH         LQD  \\\n",
      "Date                                                                 \n",
      "2025-03-28  82.459999  22.859186  78.418442  58.209999  108.063812   \n",
      "2025-03-31  81.730003  22.919001  78.508003  58.349998  108.273003   \n",
      "2025-04-01  81.849998  22.969999  78.690002  58.660000  108.660004   \n",
      "2025-04-02  82.040001  22.950001  78.849998  59.599998  108.910004   \n",
      "2025-04-03  80.320000  23.120001  77.870003  55.590000  108.900002   \n",
      "\n",
      "Ticker             SPY         TIP        VNQ        VWO  \n",
      "Date                                                      \n",
      "2025-03-28  555.659973  109.943810  89.709999  45.310001  \n",
      "2025-03-31  559.390015  110.380997  90.540001  45.259998  \n",
      "2025-04-01  560.969971  110.449997  90.580002  45.410000  \n",
      "2025-04-02  564.520020  110.279999  91.129997  45.450001  \n",
      "2025-04-03  536.700012  110.970001  88.019997  44.630001  \n",
      "\n",
      "Daily Returns (last 5 rows):\n",
      "Ticker           EFA      GOVT       HYG       IJH       LQD       SPY  \\\n",
      "Date                                                                     \n",
      "2025-03-28 -0.008894  0.006143 -0.001773 -0.018050  0.006028 -0.020138   \n",
      "2025-03-31 -0.008853  0.002617  0.001142  0.002405  0.001936  0.006713   \n",
      "2025-04-01  0.001468  0.002225  0.002318  0.005313  0.003574  0.002824   \n",
      "2025-04-02  0.002321 -0.000871  0.002033  0.016025  0.002301  0.006328   \n",
      "2025-04-03 -0.020965  0.007407 -0.012429 -0.067282 -0.000092 -0.049281   \n",
      "\n",
      "Ticker           TIP       VNQ       VWO  \n",
      "Date                                      \n",
      "2025-03-28  0.005087 -0.001336 -0.016923  \n",
      "2025-03-31  0.003976  0.009252 -0.001104  \n",
      "2025-04-01  0.000625  0.000442  0.003314  \n",
      "2025-04-02 -0.001539  0.006072  0.000881  \n",
      "2025-04-03  0.006257 -0.034127 -0.018042  \n"
     ]
    },
    {
     "name": "stderr",
     "output_type": "stream",
     "text": [
      "\n"
     ]
    }
   ],
   "source": [
    "# 1. Define Tickers, Shares, and Dates\n",
    "tickers = ['VNQ', 'HYG', 'TIP', 'GOVT', 'LQD', 'IJH', 'SPY', 'VWO', 'EFA']\n",
    "# Number of shares\n",
    "shares = {\n",
    "    'VNQ': 21,\n",
    "    'HYG': 25,\n",
    "    'TIP': 18,\n",
    "    'GOVT': 260,\n",
    "    'LQD': 36,\n",
    "    'IJH': 65,\n",
    "    'SPY': 16,\n",
    "    'VWO': 89,\n",
    "    'EFA': 74\n",
    "}\n",
    "# SP 500\n",
    "benchmark_ticker = '^GSPC'\n",
    "\n",
    "# Calculate 45 business days ago as the start date\n",
    "start_date = (pd.Timestamp.today() - pd.tseries.offsets.BDay(45)).strftime('%Y-%m-%d')\n",
    "end_date = pd.Timestamp.today().strftime('%Y-%m-%d')\n",
    "\n",
    "print(f\"Downloading data from {start_date} to {end_date}...\")\n",
    "\n",
    "# 2. Download ETF and Benchmark Price Data\n",
    "data = yf.download(tickers, start=start_date, end=end_date)['Close'].dropna()\n",
    "benchmark_data = yf.download(benchmark_ticker, start=start_date, end=end_date)['Close'].dropna()\n",
    "\n",
    "print(\"\\nHistorical Prices (last 5 rows):\")\n",
    "print(data.tail())\n",
    "\n",
    "# 3. Compute Daily Returns\n",
    "daily_returns = data.pct_change().dropna()\n",
    "benchmark_returns = benchmark_data.pct_change().dropna()\n",
    "\n",
    "print(\"\\nDaily Returns (last 5 rows):\")\n",
    "print(daily_returns.tail())\n",
    "\n",
    "# 4. Calculate Weighted Daily Portfolio Return\n",
    "\n",
    "# Step 1: compute dollar value per ticker per day\n",
    "portfolio_values = pd.DataFrame()\n",
    "for ticker in tickers:\n",
    "    portfolio_values[ticker] = data[ticker] * shares[ticker]\n",
    "\n",
    "# Step 2: total portfolio value per day\n",
    "total_value = portfolio_values.sum(axis=1)\n",
    "\n",
    "# Step 3: daily weights = (ticker value / total value)\n",
    "weights = portfolio_values.div(total_value, axis=0)\n",
    "\n",
    "# Step 4: weighted portfolio daily return\n",
    "portfolio_daily_return = (daily_returns * weights).sum(axis=1)\n",
    "\n",
    "# 5. Align with benchmark return for analysis\n",
    "combined_df = pd.concat([portfolio_daily_return, benchmark_returns], axis=1).dropna()\n",
    "combined_df.columns = ['Portfolio', 'SP500']\n",
    "\n",
    "# 6. Calculate Overall Portfolio Performance Metrics\n",
    "trading_days = 45\n",
    "risk_free_rate = 0.02\n",
    "\n",
    "avg_daily_return = combined_df['Portfolio'].mean()\n",
    "daily_volatility = combined_df['Portfolio'].std()\n",
    "annualized_return = avg_daily_return * trading_days\n",
    "annualized_volatility = daily_volatility * np.sqrt(trading_days)\n",
    "sharpe_ratio = (annualized_return - risk_free_rate) / annualized_volatility\n",
    "\n",
    "# Information Ratio\n",
    "excess_returns = combined_df['Portfolio'] - combined_df['SP500']\n",
    "mean_excess_return = excess_returns.mean() * trading_days\n",
    "tracking_error = excess_returns.std() * np.sqrt(trading_days)\n",
    "information_ratio = mean_excess_return / tracking_error if tracking_error != 0 else np.nan\n",
    "\n",
    "# Treynor Ratio (based on beta with S&P 500)\n",
    "cov_matrix = np.cov(combined_df['Portfolio'], combined_df['SP500'])\n",
    "beta = cov_matrix[0, 1] / np.var(combined_df['SP500']) if np.var(combined_df['SP500']) != 0 else np.nan\n",
    "treynor_ratio = (annualized_return - risk_free_rate) / beta if beta and beta != 0 else np.nan\n"
   ]
  },
  {
   "cell_type": "markdown",
   "id": "77981b89",
   "metadata": {},
   "source": [
    "# Portfolio Performance"
   ]
  },
  {
   "cell_type": "code",
   "execution_count": 47,
   "id": "6ae044cd",
   "metadata": {},
   "outputs": [
    {
     "data": {
      "text/html": [
       "<div>\n",
       "<style scoped>\n",
       "    .dataframe tbody tr th:only-of-type {\n",
       "        vertical-align: middle;\n",
       "    }\n",
       "\n",
       "    .dataframe tbody tr th {\n",
       "        vertical-align: top;\n",
       "    }\n",
       "\n",
       "    .dataframe thead th {\n",
       "        text-align: right;\n",
       "    }\n",
       "</style>\n",
       "<table border=\"1\" class=\"dataframe\">\n",
       "  <thead>\n",
       "    <tr style=\"text-align: right;\">\n",
       "      <th></th>\n",
       "      <th>Average Daily Return</th>\n",
       "      <th>Average Daily Std Dev (Volatility)</th>\n",
       "      <th>Average Annualized Return</th>\n",
       "      <th>Average Annualized Std Dev</th>\n",
       "      <th>Sharpe Ratio</th>\n",
       "      <th>Information Ratio</th>\n",
       "      <th>Treynor Ratio</th>\n",
       "      <th>Beta (vs SP500)</th>\n",
       "    </tr>\n",
       "  </thead>\n",
       "  <tbody>\n",
       "    <tr>\n",
       "      <th>Portfolio Stats</th>\n",
       "      <td>-0.000641</td>\n",
       "      <td>0.006808</td>\n",
       "      <td>-0.028837</td>\n",
       "      <td>0.045671</td>\n",
       "      <td>-1.069305</td>\n",
       "      <td>1.907904</td>\n",
       "      <td>-0.094311</td>\n",
       "      <td>0.517825</td>\n",
       "    </tr>\n",
       "  </tbody>\n",
       "</table>\n",
       "</div>"
      ],
      "text/plain": [
       "                 Average Daily Return  Average Daily Std Dev (Volatility)  \\\n",
       "Portfolio Stats             -0.000641                            0.006808   \n",
       "\n",
       "                 Average Annualized Return  Average Annualized Std Dev  \\\n",
       "Portfolio Stats                  -0.028837                    0.045671   \n",
       "\n",
       "                 Sharpe Ratio  Information Ratio  Treynor Ratio  \\\n",
       "Portfolio Stats     -1.069305           1.907904      -0.094311   \n",
       "\n",
       "                 Beta (vs SP500)  \n",
       "Portfolio Stats         0.517825  "
      ]
     },
     "execution_count": 47,
     "metadata": {},
     "output_type": "execute_result"
    }
   ],
   "source": [
    "\n",
    "# Store all metrics in a dictionary\n",
    "portfolio_stats = {\n",
    "    \"Average Daily Return\": avg_daily_return,\n",
    "    \"Average Daily Std Dev (Volatility)\": daily_volatility,\n",
    "    \"Average Annualized Return\": annualized_return,\n",
    "    \"Average Annualized Std Dev\": annualized_volatility,\n",
    "    \"Sharpe Ratio\": sharpe_ratio,\n",
    "    \"Information Ratio\": information_ratio,\n",
    "    \"Treynor Ratio\": treynor_ratio,\n",
    "    \"Beta (vs SP500)\": beta\n",
    "}\n",
    "Portfolio = pd.DataFrame(portfolio_stats,index=[\"Portfolio Stats\"])\n",
    "Portfolio"
   ]
  },
  {
   "cell_type": "code",
   "execution_count": null,
   "id": "10fc99d6",
   "metadata": {},
   "outputs": [],
   "source": []
  }
 ],
 "metadata": {
  "colab": {
   "provenance": []
  },
  "kernelspec": {
   "display_name": "Python 3",
   "language": "python",
   "name": "python3"
  },
  "language_info": {
   "codemirror_mode": {
    "name": "ipython",
    "version": 3
   },
   "file_extension": ".py",
   "mimetype": "text/x-python",
   "name": "python",
   "nbconvert_exporter": "python",
   "pygments_lexer": "ipython3",
   "version": "3.8.8"
  }
 },
 "nbformat": 4,
 "nbformat_minor": 5
}
